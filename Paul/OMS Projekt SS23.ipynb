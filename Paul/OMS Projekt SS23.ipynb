{
 "cells": [
  {
   "cell_type": "markdown",
   "id": "06f561b7-c873-4b41-80b3-f709c26aa977",
   "metadata": {},
   "source": [
    "# Modellierungsprojekt Optimierungsverfahren, Modellierung und Simulation\n",
    "\n",
    "## Organisatorisches\n",
    "In dieser Übung sollen Sie verschiedene dynamische Energiespeicherprobleme als gemischt-ganzzahlige Programme modellieren, mit Gurobi lösen und die Lösung visualisieren und interpretieren.\n",
    "\n",
    "Die Abgabe erfolgt in Form eines Jupyter-Notebooks. Nutzen Sie den Markup-Modus, um ihre mathematische Modellierung zu beschreiben. Mathematische Formeln können Sie zwischen zwei `$`-Zeichen oder zwei doppelten Dollarzeichen `$$` setzen. Sie können auch per Copy-and-paste Markup-Codeschnipsel kopieren, z.B. aus den Übungsblättern.\n",
    "\n",
    "Die Abgabe erfolgt in Teams von bis zu 4 Personen, die in ILIAS registriert werden müssen. Die Notebooks müssen bis **Montag, 19.06.2022, 18:00** in ILIAS abgegeben werden. \n",
    "\n",
    "Die Veranstaltungstermine am 09.06. sowie in der Woche ab dem 12.06. sind für die Arbeit am Projekt vorgesehen. Ich bin während der Termine vor Ort und stehe für Rückfragen und Unterstützung zur Verfügung. In den Veranstaltungsterminen in der Woche ab dem 19.06.2023 werde ich Sie in Einzelgesprächen (in Präsenz) zu ihrer abgegebenen Lösung befragen (ca. 10-15 Minuten). Die Termine bekommen Sie separat mitgeteilt.\n",
    "\n",
    "Insgesamt gibt es 100 Punkte auf das Projekt, wobei 50 Punkte für eine 4.0 erforderlich sind. Folgende Aspekte werden für die Punktevergabe berücksichtigt:\n",
    "- Korrektheit des mathematischen Modells\n",
    "- Korrektheit der Implementierung\n",
    "- Interpretation der Ergebnisse\n",
    "- Darstellung, Übersichtlichkeit und Verständlichkeit des abgegebenen Jupyter Notebooks\n",
    "- Einzelgespräche\n",
    "\n",
    "Die Punktzahlen der einzelnen Aufgaben (z.B. 10+5) beziehen sich auf Punkte für die Abgabe plus Punkte für die (mündliche) Beantwortung von Fragen zu den Aufgaben in den Einzelgesprächen. Mögliche Fragen sind z.B.:\n",
    "\n",
    "- \"Wie haben Sie Bedingung X aus der Aufgabe im Modell realisiert?\"\n",
    "- \"Was bedeutet die Constraint Y in Ihrem Modell?\"\n",
    "- \"Was bedeuten die Terme in der Zielfunktion?\"\n",
    "- etc.\n",
    "\n",
    "Das Projekt macht 30\\% der Modulnote aus."
   ]
  },
  {
   "cell_type": "markdown",
   "id": "95af1588-df38-4a43-a7e8-2742774b7cab",
   "metadata": {},
   "source": [
    "## Ausgangssituation\n",
    "Sie sind Assistent der Geschäftsführung in einem mittelständischen Unternehmen. An einem Standort Ihrer Firma wurde kürzlich eine Photovoltaikanlage auf den Dächern der Gebäude sowie ein 100 kWh Stromspeicher (Batterie) installiert. Die PV-Anlage soll vorrangig dafür verwendet werden, um den Strombedarf des Standorts zu decken. Wenn die PV-Anlage mehr Strom produziert als der Standort gerade benötigt, wird damit der Stromspeicher geladen oder der Strom ins Netz eingespeist. Für das Einspeisen bekommen Sie eine Vergütung von 4 ct/kWh. Falls der Standort mehr Strom benötigt als die PV-Anlage produziert und die Batterie leer ist, so beziehen Sie Strom für 22 ct/kWh aus dem Netz. Schematisch sieht das Ganze so aus:\n",
    "\n",
    "<div>\n",
    "<img src=\"Aufgabe1.png\" width=\"750\"/>\n",
    "</div>\n",
    "\n",
    "Die Batterie hat eine Effizienz von 90% beim Be- und Entladen. Das bedeutet, dass für jede kWh Strom, die in der Batterie gespeichert wird, der Ladezustand um 0.9 kWh steigt. Umgekehrt kann mit einer 1 kWh aus der Batterie nur 0.9 kWh Bedarf gedeckt werden. Die Batterie kann mit einer Maximalleistung von 50kW ge- bzw. entladen werden, d.h. während einer Stunde muss die Summe aller Lastflüsse in und aus der Batterie kleiner als 50 kWh sein.\n",
    "\n",
    "Ihr Chef hat gelesen, dass es mit Hilfe eines dynamischen Strompreistarifs möglich ist, den Betrieb der Anlage und die Energieversorgung des Standorts zu optimieren. Er bittet Sie, der Sache nachzugehen.\n",
    "\n",
    "## ✏ Aufgabe 0: Datenanalyse (5 Punkte)\n",
    "Sie möchten zunächst das System abbilden, wie es heute arbeitet. Dafür besorgen Sie sich historische Daten über den Stromverbrauch des Standorts (`Last [kWh]`) sowie Daten über die Sonneneinstrahlung, aus der Sie die Stromproduktion der PV-Anlage errechnen (`Solar [kWh]`). Alle Daten sind stundengenau für ein Jahr in der Datei `energy_2020.pkl` hinterlegt. In der Spalte `Preis [EUR/kWh]` ist zusätzlich der variable Strompreis für jede Stunde gegeben. Diesen benötigen Sie erst später."
   ]
  },
  {
   "cell_type": "code",
   "execution_count": 4,
   "id": "507c9284-13f5-4f70-a736-8f0a2708bc7e",
   "metadata": {},
   "outputs": [
    {
     "data": {
      "text/html": [
       "<div>\n",
       "<style scoped>\n",
       "    .dataframe tbody tr th:only-of-type {\n",
       "        vertical-align: middle;\n",
       "    }\n",
       "\n",
       "    .dataframe tbody tr th {\n",
       "        vertical-align: top;\n",
       "    }\n",
       "\n",
       "    .dataframe thead th {\n",
       "        text-align: right;\n",
       "    }\n",
       "</style>\n",
       "<table border=\"1\" class=\"dataframe\">\n",
       "  <thead>\n",
       "    <tr style=\"text-align: right;\">\n",
       "      <th></th>\n",
       "      <th>Datum (MEZ)</th>\n",
       "      <th>Solar [kWh]</th>\n",
       "      <th>Preis [EUR/kWh]</th>\n",
       "      <th>Last [kWh]</th>\n",
       "    </tr>\n",
       "  </thead>\n",
       "  <tbody>\n",
       "    <tr>\n",
       "      <th>0</th>\n",
       "      <td>2020-01-01T00:00+01:00</td>\n",
       "      <td>0.0</td>\n",
       "      <td>0.20940</td>\n",
       "      <td>94.2636</td>\n",
       "    </tr>\n",
       "    <tr>\n",
       "      <th>1</th>\n",
       "      <td>2020-01-01T01:00+01:00</td>\n",
       "      <td>0.0</td>\n",
       "      <td>0.19300</td>\n",
       "      <td>92.4732</td>\n",
       "    </tr>\n",
       "    <tr>\n",
       "      <th>2</th>\n",
       "      <td>2020-01-01T02:00+01:00</td>\n",
       "      <td>0.0</td>\n",
       "      <td>0.18275</td>\n",
       "      <td>90.2108</td>\n",
       "    </tr>\n",
       "    <tr>\n",
       "      <th>3</th>\n",
       "      <td>2020-01-01T03:00+01:00</td>\n",
       "      <td>0.0</td>\n",
       "      <td>0.16160</td>\n",
       "      <td>87.5294</td>\n",
       "    </tr>\n",
       "    <tr>\n",
       "      <th>4</th>\n",
       "      <td>2020-01-01T04:00+01:00</td>\n",
       "      <td>0.0</td>\n",
       "      <td>0.15425</td>\n",
       "      <td>86.8490</td>\n",
       "    </tr>\n",
       "    <tr>\n",
       "      <th>...</th>\n",
       "      <td>...</td>\n",
       "      <td>...</td>\n",
       "      <td>...</td>\n",
       "      <td>...</td>\n",
       "    </tr>\n",
       "    <tr>\n",
       "      <th>8779</th>\n",
       "      <td>2020-12-31T19:00+01:00</td>\n",
       "      <td>0.0</td>\n",
       "      <td>0.29735</td>\n",
       "      <td>120.8536</td>\n",
       "    </tr>\n",
       "    <tr>\n",
       "      <th>8780</th>\n",
       "      <td>2020-12-31T20:00+01:00</td>\n",
       "      <td>0.0</td>\n",
       "      <td>0.28350</td>\n",
       "      <td>112.4558</td>\n",
       "    </tr>\n",
       "    <tr>\n",
       "      <th>8781</th>\n",
       "      <td>2020-12-31T21:00+01:00</td>\n",
       "      <td>0.0</td>\n",
       "      <td>0.26220</td>\n",
       "      <td>106.1954</td>\n",
       "    </tr>\n",
       "    <tr>\n",
       "      <th>8782</th>\n",
       "      <td>2020-12-31T22:00+01:00</td>\n",
       "      <td>0.0</td>\n",
       "      <td>0.25930</td>\n",
       "      <td>103.6396</td>\n",
       "    </tr>\n",
       "    <tr>\n",
       "      <th>8783</th>\n",
       "      <td>2020-12-31T23:00+01:00</td>\n",
       "      <td>0.0</td>\n",
       "      <td>0.26130</td>\n",
       "      <td>98.7446</td>\n",
       "    </tr>\n",
       "  </tbody>\n",
       "</table>\n",
       "<p>8784 rows × 4 columns</p>\n",
       "</div>"
      ],
      "text/plain": [
       "                 Datum (MEZ)  Solar [kWh]  Preis [EUR/kWh]  Last [kWh]\n",
       "0     2020-01-01T00:00+01:00          0.0          0.20940     94.2636\n",
       "1     2020-01-01T01:00+01:00          0.0          0.19300     92.4732\n",
       "2     2020-01-01T02:00+01:00          0.0          0.18275     90.2108\n",
       "3     2020-01-01T03:00+01:00          0.0          0.16160     87.5294\n",
       "4     2020-01-01T04:00+01:00          0.0          0.15425     86.8490\n",
       "...                      ...          ...              ...         ...\n",
       "8779  2020-12-31T19:00+01:00          0.0          0.29735    120.8536\n",
       "8780  2020-12-31T20:00+01:00          0.0          0.28350    112.4558\n",
       "8781  2020-12-31T21:00+01:00          0.0          0.26220    106.1954\n",
       "8782  2020-12-31T22:00+01:00          0.0          0.25930    103.6396\n",
       "8783  2020-12-31T23:00+01:00          0.0          0.26130     98.7446\n",
       "\n",
       "[8784 rows x 4 columns]"
      ]
     },
     "execution_count": 4,
     "metadata": {},
     "output_type": "execute_result"
    }
   ],
   "source": [
    "import pandas as pd\n",
    "df = pd.read_pickle(\"energy_2020.pkl\")\n",
    "df"
   ]
  },
  {
   "cell_type": "markdown",
   "id": "fa9e8fe0-7282-4490-9570-6249ce859f0b",
   "metadata": {},
   "source": [
    "Bearbeiten Sie folgende Aufgaben:\n",
    "1. Visualiseren Sie die drei Zeitreihen.\n",
    "1. Wie hoch war der Gesamtstromverbrauch des Standorts im Jahr 2020?\n",
    "1. Wie hoch wären die Gesamtstromkosten des Standorts im Jahr 2020 ohne PV-Anlage gewesen (d.h. mit 22 ct/kWh Strompreis)?\n",
    "1. Wie hoch wäre die gesamte produzierte Strommenge der PV-Anlage im Jahr 2020 gewesen?\n",
    "1. Wie hoch war der durchschnittliche Strompreis im Jahr 2020?"
   ]
  },
  {
   "cell_type": "code",
   "execution_count": null,
   "id": "973f85fc-0103-4109-bff1-f45db74865ec",
   "metadata": {},
   "outputs": [],
   "source": [
    "# TO DO"
   ]
  },
  {
   "cell_type": "markdown",
   "id": "4c1a8630-2c0e-4471-8603-22cbb6fcfaf3",
   "metadata": {},
   "source": [
    "## ✏ Aufabe 1: Basismodell (25+10 Punkte)\n",
    "Modellieren Sie das System als lineares Programm, so dass die Gesamtstromkosten minimiert werden. Der Strombedarf des Standorts muss zu jedem Zeitpunkt 100% gedeckt werden. Gehen Sie vereinfachend davon aus, dass die Batterie zu Beginn des betrachteten Zeitraums eine Ladestand von 0 hat. \n",
    "\n",
    "1. Formulieren Sie ein lineares Programm in mathematischer Notation an, welches das Problem löst (Indexmengen, Problemdaten, Variablen, Zielfunktion, Nebenbedingungen).\n",
    "2. Lösen Sie das Problem mit Gurobi, lesen Sie folgende Größen aus der Lösung aus, und visualisieren Sie sie:\n",
    "   - Ladezustand der Batterie zu jedem Zeitpunkt $t$.\n",
    "   - Menge an ein- bzw. ausgespeichertem Strom zu jedem Zeitpunkt $t$.\n",
    "   - Strombezug und Stromverkauf an den Netzbetreiber zu jedem Zeitpunkt $t$.\n",
    "   - Menge an selbst verbrauchtem Strom aus der PV-Anlage zu jedem Zeitpunkt $t$.\n",
    "3. Geben Sie außerdem für das Jahr 2020 die folgenden Kenngrößen an:\n",
    "   - Eigenverbrauch gesamt (in kWh)\n",
    "   - Eigenverbrauch aus der Batterie (in kWh)\n",
    "   - Gesamtstromkosten des Standorts mit PV-Anlage und Batterie (in EUR)\n",
    "   - Ersparnis durch Eigenverbrauch gesamt (in EUR)\n",
    "   - Ersparnis durch Eigenverbrauch aus der Batterie (in EUR)"
   ]
  },
  {
   "cell_type": "code",
   "execution_count": null,
   "id": "aa7ce74a-e0e8-4b06-a9fd-f97f66cf933f",
   "metadata": {},
   "outputs": [],
   "source": [
    "# TO DO"
   ]
  },
  {
   "cell_type": "markdown",
   "id": "3cfdff87-7e10-4946-a0d0-5cb7f687093e",
   "metadata": {},
   "source": [
    "## ✏ Aufgabe 2: Variabler Strompreis (10+5 Punkte)\n",
    "Sie haben nun eine realistische Baseline, gegen die Sie alle weiteren Optionen vergleichen können. Als nächstes möchten Sie das Potential des dynamischen Strompreistarifes berechnen. Sie haben sich dafür bereits die relevanten historischen Strompreisdaten besorgt (Spalte `Preis [EUR/kWh]`). Der Tarif wirkt zunächst nur in eine Richtung, d.h. der Einkaufspreis ist variabel, aber die Einspeisevergütung liegt nach wie vor bei konstant 4 ct/kWh. Es kann sich durchaus lohnen, Energie aus dem Netz zu beziehen und in die Batterie einzuspeichern, wenn der Strompreis gerade niedrig ist. \n",
    "\n",
    "Insgesamt ergibt sich folgendes Bild:\n",
    "\n",
    "<div>\n",
    "<img src=\"Aufgabe2.png\" width=\"750\"/>\n",
    "</div>\n",
    "\n",
    "Erweitern Sie nun ihr Modell aus Aufgabe 1 und entwickeln Sie ein lineares Programm (mathematische Formulierung, Formulierung als Python Code und Lösung mit Gurobi) für das optimale Ein- und Ausspeichern von Strom in den Batteriespeicher bei variablem Strompreis beim Stromkauf. Berechnen Sie dieselben Kenngrößen wie in Aufgabe 1 und vergleichen Sie die Lösungen. Heben Sie exemplarisch 2-3 typische Situationen (einige Stunden oder Tage) hervor, bei denen sich die Lösungen sichtbar unterscheiden."
   ]
  },
  {
   "cell_type": "code",
   "execution_count": null,
   "id": "2d206cce-df75-4ddc-af5b-f0cb30c6fd05",
   "metadata": {},
   "outputs": [],
   "source": [
    "# TO DO"
   ]
  },
  {
   "cell_type": "markdown",
   "id": "1e78df5d-4aec-4563-9a01-c4920aef5559",
   "metadata": {},
   "source": [
    "## ✏ Aufgabe 3: Dimensionierung der Batterie (10+5 Punkte)\n",
    "Simulieren Sie das Einsparpotential für unterschiedliche Größen von Batteriespeichern. Variieren Sie dafür die Batteriegröße in 100 kWh-Schritten zwischen 0 und 1000 kWh und berechnen Sie für jede Größe das Einsparpotential (für jede Batteriegröße ist ein LP zu lösen)."
   ]
  },
  {
   "cell_type": "code",
   "execution_count": null,
   "id": "4b543573-b7c4-4e6b-b3f2-8aed9a681672",
   "metadata": {},
   "outputs": [],
   "source": [
    "# TO DO"
   ]
  },
  {
   "cell_type": "markdown",
   "id": "8a35c405-44c2-4c0f-8bc5-77469cc96915",
   "metadata": {},
   "source": [
    "## ✏ Aufgabe 4: Einspeisung ins Netz (10+5 Punkte)\n",
    "Sie haben nun ein gutes Verständnis des Einsparpotentials ihrer aktuellen Anlage gewonnen sowie der Potentiale, die sich durch unterschiedliche Batteriespeicher realisieren lassen könnten. Bisher gehen Ihre Modelle von einer konstanten Einspeisevergütung aus. Untersuchen Sie nun auch noch das Potential, das sich bietet, wenn Sie zusätzlich als *Stromlieferant* am Strommarkt teilnehmen:\n",
    "\n",
    "<div>\n",
    "<img src=\"Aufgabe4.png\" width=\"750\"/>\n",
    "</div>\n",
    "\n",
    "Wir nehmen an, dass dies unter folgenden Bedingungen möglich ist:\n",
    "- Pro Zeiteinheit müssen Sie entscheiden, ob Sie Strom zum pauschalen Preis einspeisen möchten oder zum variablen Preis.\n",
    "- Die Einspeisung kann aus der PV-Anlage und/oder der Batterie erfolgen.\n",
    "- Falls Sie während einer Zeiteinheit zum variablen Preis ins Netz einspeisen möchten, so ist dies nur möglich, wenn Sie mindestens 100 kWh einspeisen (kombiniert aus PV-Anlage und Batterie).\n",
    "- Falls Sie zum variablen Preis ins Netz einspeisen möchten, so ist dies zum Marktpreis abzüglich 5 ct/kWh möglich.\n",
    "\n",
    "Erweitern Sie nun ihr Modell aus Aufgabe 2 und entwickeln Sie ein lineares Programm für das optimale Ein- und Ausspeichern von Strom in den Batteriespeicher bei variablem Strompreis beim Stromkauf und -verkauf (mathematische Formulierung, Formulierung als Python Code und Lösung mit Gurobi). Berechnen Sie dieselben Kenngrößen wie in Aufgabe 2 und vergleichen Sie die Lösungen. Heben Sie exemplarisch 2-3 typische Situationen (einige Stunden oder Tage) hervor, bei denen sich die Lösungen sichtbar unterscheiden."
   ]
  },
  {
   "cell_type": "code",
   "execution_count": null,
   "id": "fa29f955-aa89-4d63-8c7c-c1d91171fbed",
   "metadata": {},
   "outputs": [],
   "source": [
    "# TO DO"
   ]
  },
  {
   "cell_type": "markdown",
   "id": "9cbe4cd8-64e4-43f7-b089-c97d6393306e",
   "metadata": {},
   "source": [
    "## ✏ Aufgabe 5: Validierung (10+5 Punkte)\n",
    "Bei all Ihren Betrachtungen haben Sie bisher einen Aspekt außer Acht gelassen: Die Berechnungen wurden *a posteriori* durchgeführt, d.h. sie wurden im Nachhinein auf bekannten Daten angestellt. In der Realität weiß man aber zum Zeitpunkt der Entscheidung (ein-/ausspeichern) noch nicht, wie sich der Strompreis, der Verbrauch und die produzierte Strommenge zukünftig entwickeln werden. Das so berechnete Einsparpotential ist deshalb wahrscheinlich ein wenig zu optimistisch.\n",
    "\n",
    "In der Datei `energy_2020_scenarios.pkl` finden Sie 100 verschiedene Szenarien, wie der Strompreis tatsächlich sein könnte. Evaluieren Sie anhand der verschiedenen Szenarien, wie hoch die Stromkosten mit dem optimalen Ein- und Ausspeichern wie in den Aufgaben 1, 2 und 4 berechnet tatsächlich sein könnten:\n",
    "- Berechnen Sie für jedes Szenario und für jedes der drei Modelle die Stromkosten.\n",
    "- Visualisieren Sie die Ergebnisse der Simulation in einem geeigneten (vergleichenden) statistischen Plot.\n",
    "\n",
    "Was müssten Sie zusätzlich beachten, wenn Sie eine derartige Simulation für verschiedene Szenarien des Strombedarfs und der Stromerzeugung machen würden?"
   ]
  },
  {
   "cell_type": "code",
   "execution_count": null,
   "id": "b201a25c-bae7-4d23-8c8e-5303008b8b77",
   "metadata": {},
   "outputs": [],
   "source": [
    "# TO DO"
   ]
  }
 ],
 "metadata": {
  "kernelspec": {
   "display_name": "Python 3 (ipykernel)",
   "language": "python",
   "name": "python3"
  },
  "language_info": {
   "codemirror_mode": {
    "name": "ipython",
    "version": 3
   },
   "file_extension": ".py",
   "mimetype": "text/x-python",
   "name": "python",
   "nbconvert_exporter": "python",
   "pygments_lexer": "ipython3",
   "version": "3.9.6"
  }
 },
 "nbformat": 4,
 "nbformat_minor": 5
}
